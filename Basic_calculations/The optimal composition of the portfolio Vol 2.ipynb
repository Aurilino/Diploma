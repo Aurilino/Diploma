{
 "cells": [
  {
   "cell_type": "markdown",
   "metadata": {},
   "source": [
    "## The optimal composition of the portfolio\n",
    "\n",
    "### Vol 2\n",
    "\n",
    "#### 26.04.2019"
   ]
  },
  {
   "cell_type": "code",
   "execution_count": 1,
   "metadata": {},
   "outputs": [],
   "source": [
    "# connection necessary packeges\n",
    "import pandas as pd\n",
    "import numpy as np\n",
    "import matplotlib.pyplot as plt\n",
    "import scipy.optimize as sco"
   ]
  },
  {
   "cell_type": "markdown",
   "metadata": {},
   "source": [
    "## Helpfull function"
   ]
  },
  {
   "cell_type": "code",
   "execution_count": 51,
   "metadata": {},
   "outputs": [],
   "source": [
    "# profitability of the portfolio\n",
    "def port_mean(d, means, n_days=250):\n",
    "    d = np.array(d)\n",
    "    return np.sum(means * d) * n_days\n",
    "\n",
    "\n",
    "# volatility of the portfolio\n",
    "def port_vol(d, cov, n_days=250):\n",
    "    d = np.array(d)\n",
    "    return np.sqrt(np.dot(d.T, np.dot(cov * n_days, d)))\n",
    "\n",
    "\n",
    "# Vallue at Risk (VaR) of asset\n",
    "def asset_VaR(df, alpha = 5):\n",
    "    var = []\n",
    "    col = list(df.columns)\n",
    "    for i in col:\n",
    "        num = sorted(list(df[i]))\n",
    "        var.append(-np.percentile(num, 5))\n",
    "    return var\n",
    "\n",
    "\n",
    "# Portfolio Value at Risk \n",
    "def port_VaR(weights, var):\n",
    "    a = np.array(weights)\n",
    "    b = np.array(var)\n",
    "    return np.dot(a, b)\n",
    "\n",
    "\n",
    "# Flag\n",
    "def flag(df, n_assets):\n",
    "    df['Flag'] = 1\n",
    "    for i in range(1, len(df.index)):\n",
    "        b = i - 1\n",
    "        if df.index.year[i] == df.index.year[b]:\n",
    "            df.iloc[i, n_assets] = 0\n",
    "\n",
    "        \n",
    "\n",
    "# filter dataframe\n",
    "def filter_df(df, start, stop):\n",
    "        df = df[df.index >= start]\n",
    "        df = df[df.index <= stop]\n",
    "        return df\n",
    "\n",
    "    \n",
    "# portfolio characteristic\n",
    "def char(weight, df):\n",
    "    start = ''\n",
    "    stop = str(df.index[len(df.index)-1])[:10]\n",
    "    n = int(0)\n",
    "    share = 1\n",
    "    res = []\n",
    "    for i in df['Flag']:\n",
    "        if i == 1:\n",
    "            n += 1\n",
    "            start = str(df.index[n-1])[:10]\n",
    "            temp = filter_df(df, start, stop)\n",
    "            del temp['Flag']\n",
    "            means = port_mean(weight, np.mean(temp), n_days = len(temp.index))\n",
    "            vol = port_vol(weight, np.cov(temp, rowvar = False), n_days = len(temp.index))\n",
    "            res.append(means / vol)\n",
    "        else:\n",
    "            n += 1\n",
    "    return -sum(res)\n",
    "\n",
    "# assets characteristic\n",
    "def assets_char(df):\n",
    "    df[len(df['Flag']) - 1, n_assets] = 1\n",
    "    start = str(df.index[0])[:10]\n",
    "    stop = ''\n",
    "    n = int(0)\n",
    "    share = 1\n",
    "    iret = []\n",
    "    bret = []\n",
    "    ivol = []\n",
    "    bvol = []\n",
    "    cov = []\n",
    "    num = sum(df['Flag'])\n",
    "    for i in df['Flag']:\n",
    "        if i == 1:\n",
    "            if n == 0:\n",
    "                continue\n",
    "            n += 1\n",
    "            stop = str(df.index[n-1])[:10]\n",
    "            temp = filter_df(df, start, stop)\n",
    "            del temp['Flag']\n",
    "            means = np.mean(temp)\n",
    "            vol = np.std(temp)\n",
    "            iret.append(means[0] * (len(temp.index)))\n",
    "            bret.append(means[1] * (len(temp.index)))\n",
    "            ivol.append(vol[0] * (np.sqrt(len(temp.index))))\n",
    "            bvol.append(vol[1] * (np.sqrt(len(temp.index))))\n",
    "            cov.append(np.cov(temp, rowvar = False)[0][1])\n",
    "            num -= 1\n",
    "        else:\n",
    "            n += 1\n",
    "            if stop != '':\n",
    "                start = stop\n",
    "    return iret, bret, ivol, bvol, cov"
   ]
  },
  {
   "cell_type": "code",
   "execution_count": 3,
   "metadata": {},
   "outputs": [],
   "source": [
    "# data parse\n",
    "dateparse = lambda x: pd.datetime.strptime(x, '%d.%m.%Y')\n",
    "# download and calculate data\n",
    "index = pd.read_csv('https://raw.githubusercontent.com/Aurilino/Diploma/master/MAIN_DATA/MOEXBC_c.csv'\n",
    "                    , header=0, index_col=0, parse_dates={'Index_Date': [0]}, date_parser=dateparse, sep=';')\n",
    "bond = pd.read_csv('https://raw.githubusercontent.com/Aurilino/Diploma/master/MAIN_DATA/RGBITR_c.csv '\n",
    "                    , header=0, index_col=0, parse_dates={'Index_Date': [0]}, date_parser=dateparse, sep=';')\n",
    "temp = ['OPEN', 'HIGH', 'LOW', 'VALUE', 'DURATION', 'YIELD', 'DECIMALS', 'CAPITALIZATION', 'CURRENCYID', 'DIVISOR']\n",
    "for i in temp:\n",
    "    del index[i]\n",
    "    del bond[i]\n",
    "n_assets = 2\n",
    "# index = index[index.index >= '2014-01-01']\n",
    "# bond = bond[bond.index >= '2014-01-01']"
   ]
  },
  {
   "cell_type": "code",
   "execution_count": 4,
   "metadata": {},
   "outputs": [
    {
     "data": {
      "text/html": [
       "<div>\n",
       "<style scoped>\n",
       "    .dataframe tbody tr th:only-of-type {\n",
       "        vertical-align: middle;\n",
       "    }\n",
       "\n",
       "    .dataframe tbody tr th {\n",
       "        vertical-align: top;\n",
       "    }\n",
       "\n",
       "    .dataframe thead th {\n",
       "        text-align: right;\n",
       "    }\n",
       "</style>\n",
       "<table border=\"1\" class=\"dataframe\">\n",
       "  <thead>\n",
       "    <tr style=\"text-align: right;\">\n",
       "      <th></th>\n",
       "      <th>Blue Chips</th>\n",
       "      <th>Bond index</th>\n",
       "    </tr>\n",
       "    <tr>\n",
       "      <th>Date</th>\n",
       "      <th></th>\n",
       "      <th></th>\n",
       "    </tr>\n",
       "  </thead>\n",
       "  <tbody>\n",
       "    <tr>\n",
       "      <th>2012-04-03</th>\n",
       "      <td>0.018686</td>\n",
       "      <td>0.000211</td>\n",
       "    </tr>\n",
       "    <tr>\n",
       "      <th>2012-04-04</th>\n",
       "      <td>-0.023290</td>\n",
       "      <td>-0.000986</td>\n",
       "    </tr>\n",
       "    <tr>\n",
       "      <th>2012-04-05</th>\n",
       "      <td>0.008678</td>\n",
       "      <td>0.000141</td>\n",
       "    </tr>\n",
       "    <tr>\n",
       "      <th>2012-04-06</th>\n",
       "      <td>-0.018159</td>\n",
       "      <td>-0.000564</td>\n",
       "    </tr>\n",
       "    <tr>\n",
       "      <th>2012-04-09</th>\n",
       "      <td>0.007753</td>\n",
       "      <td>-0.001129</td>\n",
       "    </tr>\n",
       "  </tbody>\n",
       "</table>\n",
       "</div>"
      ],
      "text/plain": [
       "            Blue Chips  Bond index\n",
       "Date                              \n",
       "2012-04-03    0.018686    0.000211\n",
       "2012-04-04   -0.023290   -0.000986\n",
       "2012-04-05    0.008678    0.000141\n",
       "2012-04-06   -0.018159   -0.000564\n",
       "2012-04-09    0.007753   -0.001129"
      ]
     },
     "execution_count": 4,
     "metadata": {},
     "output_type": "execute_result"
    }
   ],
   "source": [
    "# get daily returns\n",
    "main = pd.merge(index, bond, left_index = True, right_index = True)\n",
    "main = main.apply(lambda x: np.log(x / x.shift(1)))\n",
    "main.dropna(inplace = True)\n",
    "main.columns = ['Blue Chips', 'Bond index']\n",
    "main.index.name = 'Date'\n",
    "main.head()"
   ]
  },
  {
   "cell_type": "code",
   "execution_count": 5,
   "metadata": {},
   "outputs": [
    {
     "data": {
      "text/plain": [
       "Blue Chips    0.000292\n",
       "Bond index    0.000316\n",
       "dtype: float64"
      ]
     },
     "execution_count": 5,
     "metadata": {},
     "output_type": "execute_result"
    }
   ],
   "source": [
    "means = np.mean(main.iloc[:, :n_assets])\n",
    "means"
   ]
  },
  {
   "cell_type": "code",
   "execution_count": 6,
   "metadata": {},
   "outputs": [
    {
     "data": {
      "text/plain": [
       "array([[1.37640789e-04, 9.46097582e-06],\n",
       "       [9.46097582e-06, 1.85913110e-05]])"
      ]
     },
     "execution_count": 6,
     "metadata": {},
     "output_type": "execute_result"
    }
   ],
   "source": [
    "cov = np.cov(main.iloc[:, :n_assets], rowvar = False)\n",
    "cov"
   ]
  },
  {
   "cell_type": "code",
   "execution_count": 7,
   "metadata": {},
   "outputs": [
    {
     "data": {
      "text/plain": [
       "[0.017654779404523115, 0.004752309651628121]"
      ]
     },
     "execution_count": 7,
     "metadata": {},
     "output_type": "execute_result"
    }
   ],
   "source": [
    "var = asset_VaR(main.iloc[:, :n_assets])\n",
    "var"
   ]
  },
  {
   "cell_type": "code",
   "execution_count": 8,
   "metadata": {},
   "outputs": [
    {
     "data": {
      "text/html": [
       "<div>\n",
       "<style scoped>\n",
       "    .dataframe tbody tr th:only-of-type {\n",
       "        vertical-align: middle;\n",
       "    }\n",
       "\n",
       "    .dataframe tbody tr th {\n",
       "        vertical-align: top;\n",
       "    }\n",
       "\n",
       "    .dataframe thead th {\n",
       "        text-align: right;\n",
       "    }\n",
       "</style>\n",
       "<table border=\"1\" class=\"dataframe\">\n",
       "  <thead>\n",
       "    <tr style=\"text-align: right;\">\n",
       "      <th></th>\n",
       "      <th>Blue Chips</th>\n",
       "      <th>Bond index</th>\n",
       "      <th>Flag</th>\n",
       "    </tr>\n",
       "    <tr>\n",
       "      <th>Date</th>\n",
       "      <th></th>\n",
       "      <th></th>\n",
       "      <th></th>\n",
       "    </tr>\n",
       "  </thead>\n",
       "  <tbody>\n",
       "    <tr>\n",
       "      <th>2012-04-03</th>\n",
       "      <td>0.018686</td>\n",
       "      <td>0.000211</td>\n",
       "      <td>1</td>\n",
       "    </tr>\n",
       "    <tr>\n",
       "      <th>2012-04-04</th>\n",
       "      <td>-0.023290</td>\n",
       "      <td>-0.000986</td>\n",
       "      <td>0</td>\n",
       "    </tr>\n",
       "    <tr>\n",
       "      <th>2012-04-05</th>\n",
       "      <td>0.008678</td>\n",
       "      <td>0.000141</td>\n",
       "      <td>0</td>\n",
       "    </tr>\n",
       "    <tr>\n",
       "      <th>2012-04-06</th>\n",
       "      <td>-0.018159</td>\n",
       "      <td>-0.000564</td>\n",
       "      <td>0</td>\n",
       "    </tr>\n",
       "    <tr>\n",
       "      <th>2012-04-09</th>\n",
       "      <td>0.007753</td>\n",
       "      <td>-0.001129</td>\n",
       "      <td>0</td>\n",
       "    </tr>\n",
       "  </tbody>\n",
       "</table>\n",
       "</div>"
      ],
      "text/plain": [
       "            Blue Chips  Bond index  Flag\n",
       "Date                                    \n",
       "2012-04-03    0.018686    0.000211     1\n",
       "2012-04-04   -0.023290   -0.000986     0\n",
       "2012-04-05    0.008678    0.000141     0\n",
       "2012-04-06   -0.018159   -0.000564     0\n",
       "2012-04-09    0.007753   -0.001129     0"
      ]
     },
     "execution_count": 8,
     "metadata": {},
     "output_type": "execute_result"
    }
   ],
   "source": [
    "flag(main, n_assets)\n",
    "main.head()"
   ]
  },
  {
   "cell_type": "markdown",
   "metadata": {},
   "source": [
    "## Maximizes the total difference between return and risk"
   ]
  },
  {
   "cell_type": "code",
   "execution_count": 9,
   "metadata": {
    "scrolled": false
   },
   "outputs": [
    {
     "name": "stdout",
     "output_type": "stream",
     "text": [
      "Weights of portfolio with maximum differnt between return and risk: 0.0483 0.9517\n"
     ]
    }
   ],
   "source": [
    "z = len(main.index)\n",
    "# portfolio with equal weights on all assets\n",
    "w_initial = n_assets*[1./n_assets]\n",
    "# the restriction weights of the assets\n",
    "bnds = tuple((0, 1) for x in range(n_assets))\n",
    "# restriction - the sum of weights should not exceed one\n",
    "cons=({'type':'eq','fun':lambda x:sum(x)-1})\n",
    "# portfolio with maximum differnt between return and risk\n",
    "min_diff = sco.minimize(char, w_initial, (main), method = 'SLSQP', bounds = bnds, constraints = cons)\n",
    "print('Weights of portfolio with maximum differnt between return and risk:',*min_diff['x'].round(4))"
   ]
  },
  {
   "cell_type": "code",
   "execution_count": 10,
   "metadata": {},
   "outputs": [],
   "source": [
    "# min_diff = pd.DataFrame()\n",
    "# min_diff['x'] = [0.0441, 0.9559]"
   ]
  },
  {
   "cell_type": "code",
   "execution_count": 11,
   "metadata": {},
   "outputs": [
    {
     "data": {
      "text/plain": [
       "'Year return: 7.86711%'"
      ]
     },
     "execution_count": 11,
     "metadata": {},
     "output_type": "execute_result"
    }
   ],
   "source": [
    "'Year return: ' + str(round(port_mean(min_diff['x'], means) * 100, 5)) + '%'"
   ]
  },
  {
   "cell_type": "code",
   "execution_count": 17,
   "metadata": {},
   "outputs": [
    {
     "data": {
      "text/plain": [
       "'Year risk: 6.71377%'"
      ]
     },
     "execution_count": 17,
     "metadata": {},
     "output_type": "execute_result"
    }
   ],
   "source": [
    "cov = np.cov(main.iloc[:, :n_assets], rowvar = False)\n",
    "'Year risk: ' + str(round(port_vol(min_diff['x'], cov) * 100, 5)) + '%'"
   ]
  },
  {
   "cell_type": "code",
   "execution_count": 13,
   "metadata": {},
   "outputs": [
    {
     "data": {
      "text/plain": [
       "'Dayly VaR: 0.53749%'"
      ]
     },
     "execution_count": 13,
     "metadata": {},
     "output_type": "execute_result"
    }
   ],
   "source": [
    "'Dayly VaR: ' + str(round(port_VaR(min_diff['x'], var) * 100, 5)) + '%'"
   ]
  },
  {
   "cell_type": "markdown",
   "metadata": {},
   "source": [
    "## Calculate all posible portfolio whit optimal portfolio"
   ]
  },
  {
   "cell_type": "code",
   "execution_count": 14,
   "metadata": {},
   "outputs": [],
   "source": [
    "# take step by one year\n",
    "time = range(8)\n",
    "a = np.linspace(min_diff['x'][1], 1, len(time))\n",
    "b = np.linspace(0, 1, len(time))"
   ]
  },
  {
   "cell_type": "code",
   "execution_count": 15,
   "metadata": {},
   "outputs": [
    {
     "data": {
      "image/png": "[encoded data removed]",
      "text/plain": [
       "<Figure size 720x216 with 1 Axes>"
      ]
     },
     "metadata": {
      "needs_background": "light"
     },
     "output_type": "display_data"
    }
   ],
   "source": [
    "# set of asset portfolio\n",
    "_=plt.figure(figsize = (10, 3))\n",
    "_=plt.style.use('ggplot')\n",
    "_=plt.plot(time, a, color = 'r', marker = '')\n",
    "_=plt.plot(time, b, color = 'r', marker = '')\n",
    "_=plt.fill_between(time, a, b, color = 'r', alpha = .2)\n",
    "_=plt.ylabel('Share of bond')\n",
    "_=plt.xlabel('Years')\n",
    "_=plt.xlim(0, len(time) - .5)\n",
    "_=plt.ylim(0, 1.1)"
   ]
  },
  {
   "cell_type": "code",
   "execution_count": 16,
   "metadata": {},
   "outputs": [
    {
     "data": {
      "image/png": "[encoded data removed]",
      "text/plain": [
       "<Figure size 720x216 with 1 Axes>"
      ]
     },
     "metadata": {},
     "output_type": "display_data"
    }
   ],
   "source": [
    "_=plt.figure(figsize = (10, 3))\n",
    "_=plt.style.use('ggplot')\n",
    "_=plt.plot(time, a, color = 'r', marker = 'o')\n",
    "_=plt.plot(time, b, color = 'r', marker = 'o')\n",
    "for i in range(1, len(time)):\n",
    "    _=plt.axvline(x = i, color='b', linestyle='--')\n",
    "_=plt.ylabel('Share of bond')\n",
    "_=plt.xlabel('Years')\n",
    "_=plt.xlim(0, len(time) - .5)\n",
    "_=plt.ylim(0, 1.1)"
   ]
  },
  {
   "cell_type": "code",
   "execution_count": 52,
   "metadata": {},
   "outputs": [
    {
     "name": "stderr",
     "output_type": "stream",
     "text": [
      "c:\\python37-32\\lib\\site-packages\\ipykernel_launcher.py:69: SettingWithCopyWarning: \n",
      "A value is trying to be set on a copy of a slice from a DataFrame\n",
      "\n",
      "See the caveats in the documentation: http://pandas.pydata.org/pandas-docs/stable/indexing.html#indexing-view-versus-copy\n"
     ]
    }
   ],
   "source": [
    "ir, br, iv, bv, cov = assets_char(main)\n",
    "port_min = pd.DataFrame({'Bond': a, 'Stocks': [1-i for i in a], 'Means_b': br, 'Means_s': ir,\n",
    "                         'Vol_b': bv, 'Vol_s': iv, 'Cov': cov})\n",
    "port_max = pd.DataFrame({'Bond': b, 'Stocks': [1-i for i in b], 'Means_b': br, 'Means_s': ir,\n",
    "                         'Vol_b': bv, 'Vol_s': iv, 'Cov': cov})\n",
    "col = ['Means_b', 'Means_s', 'Vol_b', 'Vol_s', 'Cov']"
   ]
  },
  {
   "cell_type": "code",
   "execution_count": 53,
   "metadata": {},
   "outputs": [],
   "source": [
    "port_min['Rent'] = (port_min['Bond'] * port_min['Means_b']) + (port_min['Stocks'] * port_min['Means_s'])\n",
    "port_min['Risk'] = (port_min['Bond']**2 * port_min['Vol_b']) + (port_min['Stocks']**2 * port_min['Vol_s']) + 2 * (port_min['Bond'] * port_min['Stocks'] * port_min['Cov'])\n",
    "port_max['Rent'] = (port_max['Bond'] * port_max['Means_b']) + (port_max['Stocks'] * port_max['Means_s'])\n",
    "port_max['Risk'] = (port_max['Bond']**2 * port_max['Vol_b']) + (port_max['Stocks']**2 * port_max['Vol_s']) + 2 * (port_max['Bond'] * port_max['Stocks'] * port_max['Cov'])"
   ]
  },
  {
   "cell_type": "code",
   "execution_count": 54,
   "metadata": {},
   "outputs": [],
   "source": [
    "for i in col:\n",
    "    del port_min[i]\n",
    "    del port_max[i]"
   ]
  },
  {
   "cell_type": "code",
   "execution_count": 55,
   "metadata": {},
   "outputs": [],
   "source": [
    "port_min = port_min.apply( lambda x: round(x, 4))\n",
    "port_min['Rent'] = port_min['Rent'].apply(lambda x: str(round(x * 100, 4)) + '%')\n",
    "port_min['Risk'] = port_min['Risk'].apply(lambda x: str(round(x * 100, 4)) + '%')"
   ]
  },
  {
   "cell_type": "code",
   "execution_count": 56,
   "metadata": {},
   "outputs": [],
   "source": [
    "port_max = port_max.apply( lambda x: round(x, 4))\n",
    "port_max['Rent'] = port_max['Rent'].apply(lambda x: str(round(x * 100, 4)) + '%')\n",
    "port_max['Risk'] = port_max['Risk'].apply(lambda x: str(round(x * 100, 4)) + '%')"
   ]
  },
  {
   "cell_type": "code",
   "execution_count": 57,
   "metadata": {},
   "outputs": [
    {
     "data": {
      "text/html": [
       "<div>\n",
       "<style scoped>\n",
       "    .dataframe tbody tr th:only-of-type {\n",
       "        vertical-align: middle;\n",
       "    }\n",
       "\n",
       "    .dataframe tbody tr th {\n",
       "        vertical-align: top;\n",
       "    }\n",
       "\n",
       "    .dataframe thead th {\n",
       "        text-align: right;\n",
       "    }\n",
       "</style>\n",
       "<table border=\"1\" class=\"dataframe\">\n",
       "  <thead>\n",
       "    <tr style=\"text-align: right;\">\n",
       "      <th></th>\n",
       "      <th>Bond</th>\n",
       "      <th>Stocks</th>\n",
       "      <th>Rent</th>\n",
       "      <th>Risk</th>\n",
       "    </tr>\n",
       "  </thead>\n",
       "  <tbody>\n",
       "    <tr>\n",
       "      <th>0</th>\n",
       "      <td>0.9517</td>\n",
       "      <td>0.0483</td>\n",
       "      <td>9.03%</td>\n",
       "      <td>2.35%</td>\n",
       "    </tr>\n",
       "    <tr>\n",
       "      <th>1</th>\n",
       "      <td>0.9586</td>\n",
       "      <td>0.0414</td>\n",
       "      <td>3.7%</td>\n",
       "      <td>4.65%</td>\n",
       "    </tr>\n",
       "    <tr>\n",
       "      <th>2</th>\n",
       "      <td>0.9655</td>\n",
       "      <td>0.0345</td>\n",
       "      <td>-15.13%</td>\n",
       "      <td>12.14%</td>\n",
       "    </tr>\n",
       "    <tr>\n",
       "      <th>3</th>\n",
       "      <td>0.9724</td>\n",
       "      <td>0.0276</td>\n",
       "      <td>26.02%</td>\n",
       "      <td>8.41%</td>\n",
       "    </tr>\n",
       "    <tr>\n",
       "      <th>4</th>\n",
       "      <td>0.9793</td>\n",
       "      <td>0.0207</td>\n",
       "      <td>14.16%</td>\n",
       "      <td>4.28%</td>\n",
       "    </tr>\n",
       "    <tr>\n",
       "      <th>5</th>\n",
       "      <td>0.9862</td>\n",
       "      <td>0.0138</td>\n",
       "      <td>11.79%</td>\n",
       "      <td>2.33%</td>\n",
       "    </tr>\n",
       "    <tr>\n",
       "      <th>6</th>\n",
       "      <td>0.9931</td>\n",
       "      <td>0.0069</td>\n",
       "      <td>2.24%</td>\n",
       "      <td>4.23%</td>\n",
       "    </tr>\n",
       "    <tr>\n",
       "      <th>7</th>\n",
       "      <td>1.0000</td>\n",
       "      <td>0.0000</td>\n",
       "      <td>4.42%</td>\n",
       "      <td>1.66%</td>\n",
       "    </tr>\n",
       "  </tbody>\n",
       "</table>\n",
       "</div>"
      ],
      "text/plain": [
       "     Bond  Stocks     Rent    Risk\n",
       "0  0.9517  0.0483    9.03%   2.35%\n",
       "1  0.9586  0.0414     3.7%   4.65%\n",
       "2  0.9655  0.0345  -15.13%  12.14%\n",
       "3  0.9724  0.0276   26.02%   8.41%\n",
       "4  0.9793  0.0207   14.16%   4.28%\n",
       "5  0.9862  0.0138   11.79%   2.33%\n",
       "6  0.9931  0.0069    2.24%   4.23%\n",
       "7  1.0000  0.0000    4.42%   1.66%"
      ]
     },
     "execution_count": 57,
     "metadata": {},
     "output_type": "execute_result"
    }
   ],
   "source": [
    "port_min"
   ]
  },
  {
   "cell_type": "code",
   "execution_count": 58,
   "metadata": {},
   "outputs": [
    {
     "data": {
      "text/html": [
       "<div>\n",
       "<style scoped>\n",
       "    .dataframe tbody tr th:only-of-type {\n",
       "        vertical-align: middle;\n",
       "    }\n",
       "\n",
       "    .dataframe tbody tr th {\n",
       "        vertical-align: top;\n",
       "    }\n",
       "\n",
       "    .dataframe thead th {\n",
       "        text-align: right;\n",
       "    }\n",
       "</style>\n",
       "<table border=\"1\" class=\"dataframe\">\n",
       "  <thead>\n",
       "    <tr style=\"text-align: right;\">\n",
       "      <th></th>\n",
       "      <th>Bond</th>\n",
       "      <th>Stocks</th>\n",
       "      <th>Rent</th>\n",
       "      <th>Risk</th>\n",
       "    </tr>\n",
       "  </thead>\n",
       "  <tbody>\n",
       "    <tr>\n",
       "      <th>0</th>\n",
       "      <td>0.0000</td>\n",
       "      <td>1.0000</td>\n",
       "      <td>-2.77%</td>\n",
       "      <td>16.46%</td>\n",
       "    </tr>\n",
       "    <tr>\n",
       "      <th>1</th>\n",
       "      <td>0.1429</td>\n",
       "      <td>0.8571</td>\n",
       "      <td>1.12%</td>\n",
       "      <td>11.66%</td>\n",
       "    </tr>\n",
       "    <tr>\n",
       "      <th>2</th>\n",
       "      <td>0.2857</td>\n",
       "      <td>0.7143</td>\n",
       "      <td>-10.42%</td>\n",
       "      <td>13.4%</td>\n",
       "    </tr>\n",
       "    <tr>\n",
       "      <th>3</th>\n",
       "      <td>0.4286</td>\n",
       "      <td>0.5714</td>\n",
       "      <td>22.36%</td>\n",
       "      <td>8.77%</td>\n",
       "    </tr>\n",
       "    <tr>\n",
       "      <th>4</th>\n",
       "      <td>0.5714</td>\n",
       "      <td>0.4286</td>\n",
       "      <td>18.02%</td>\n",
       "      <td>4.53%</td>\n",
       "    </tr>\n",
       "    <tr>\n",
       "      <th>5</th>\n",
       "      <td>0.7143</td>\n",
       "      <td>0.2857</td>\n",
       "      <td>6.83%</td>\n",
       "      <td>2.38%</td>\n",
       "    </tr>\n",
       "    <tr>\n",
       "      <th>6</th>\n",
       "      <td>0.8571</td>\n",
       "      <td>0.1429</td>\n",
       "      <td>3.96%</td>\n",
       "      <td>3.53%</td>\n",
       "    </tr>\n",
       "    <tr>\n",
       "      <th>7</th>\n",
       "      <td>1.0000</td>\n",
       "      <td>0.0000</td>\n",
       "      <td>4.42%</td>\n",
       "      <td>1.66%</td>\n",
       "    </tr>\n",
       "  </tbody>\n",
       "</table>\n",
       "</div>"
      ],
      "text/plain": [
       "     Bond  Stocks     Rent    Risk\n",
       "0  0.0000  1.0000   -2.77%  16.46%\n",
       "1  0.1429  0.8571    1.12%  11.66%\n",
       "2  0.2857  0.7143  -10.42%   13.4%\n",
       "3  0.4286  0.5714   22.36%   8.77%\n",
       "4  0.5714  0.4286   18.02%   4.53%\n",
       "5  0.7143  0.2857    6.83%   2.38%\n",
       "6  0.8571  0.1429    3.96%   3.53%\n",
       "7  1.0000  0.0000    4.42%   1.66%"
      ]
     },
     "execution_count": 58,
     "metadata": {},
     "output_type": "execute_result"
    }
   ],
   "source": [
    "port_max"
   ]
  },
  {
   "cell_type": "markdown",
   "metadata": {},
   "source": [
    "### 50% Stocks and 50% Bonds"
   ]
  },
  {
   "cell_type": "code",
   "execution_count": 3,
   "metadata": {},
   "outputs": [],
   "source": [
    "# take step by one year\n",
    "time = range(5)\n",
    "b = np.linspace(0.5, 1, len(time))"
   ]
  },
  {
   "cell_type": "code",
   "execution_count": 6,
   "metadata": {},
   "outputs": [
    {
     "name": "stdout",
     "output_type": "stream",
     "text": [
      "0.5|0.625|0.75|0.875|1.0|\n",
      "0.5|0.375|0.25|0.125|0.0|"
     ]
    }
   ],
   "source": [
    "for i in b:\n",
    "    print(i, end='|')\n",
    "print()\n",
    "for i in b:\n",
    "    print(1- i, end='|')"
   ]
  },
  {
   "cell_type": "code",
   "execution_count": null,
   "metadata": {},
   "outputs": [],
   "source": []
  }
 ],
 "metadata": {
  "kernelspec": {
   "display_name": "Python 3",
   "language": "python",
   "name": "python3"
  },
  "language_info": {
   "codemirror_mode": {
    "name": "ipython",
    "version": 3
   },
   "file_extension": ".py",
   "mimetype": "text/x-python",
   "name": "python",
   "nbconvert_exporter": "python",
   "pygments_lexer": "ipython3",
   "version": "3.7.2"
  }
 },
 "nbformat": 4,
 "nbformat_minor": 2
}

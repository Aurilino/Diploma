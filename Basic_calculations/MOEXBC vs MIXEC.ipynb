{
 "cells": [
  {
   "cell_type": "markdown",
   "metadata": {},
   "source": [
    "## Compare indexes MOEXBC and MIXEC\n",
    "#### 26.03.2019"
   ]
  },
  {
   "cell_type": "code",
   "execution_count": 3,
   "metadata": {},
   "outputs": [],
   "source": [
    "# сonnect the necessary packages\n",
    "import numpy as np\n",
    "import pandas as pd\n",
    "import matplotlib.pyplot as plt"
   ]
  },
  {
   "cell_type": "code",
   "execution_count": 4,
   "metadata": {},
   "outputs": [
    {
     "data": {
      "text/html": [
       "<div>\n",
       "<style scoped>\n",
       "    .dataframe tbody tr th:only-of-type {\n",
       "        vertical-align: middle;\n",
       "    }\n",
       "\n",
       "    .dataframe tbody tr th {\n",
       "        vertical-align: top;\n",
       "    }\n",
       "\n",
       "    .dataframe thead th {\n",
       "        text-align: right;\n",
       "    }\n",
       "</style>\n",
       "<table border=\"1\" class=\"dataframe\">\n",
       "  <thead>\n",
       "    <tr style=\"text-align: right;\">\n",
       "      <th></th>\n",
       "      <th>MICEX</th>\n",
       "      <th>MOEXBC</th>\n",
       "    </tr>\n",
       "    <tr>\n",
       "      <th>Date</th>\n",
       "      <th></th>\n",
       "      <th></th>\n",
       "    </tr>\n",
       "  </thead>\n",
       "  <tbody>\n",
       "    <tr>\n",
       "      <th>2012-03-01</th>\n",
       "      <td>1628.12</td>\n",
       "      <td>10296.66</td>\n",
       "    </tr>\n",
       "    <tr>\n",
       "      <th>2012-04-01</th>\n",
       "      <td>1631.31</td>\n",
       "      <td>10328.87</td>\n",
       "    </tr>\n",
       "    <tr>\n",
       "      <th>2012-05-01</th>\n",
       "      <td>1617.02</td>\n",
       "      <td>10248.31</td>\n",
       "    </tr>\n",
       "    <tr>\n",
       "      <th>2012-06-01</th>\n",
       "      <td>1623.43</td>\n",
       "      <td>10282.52</td>\n",
       "    </tr>\n",
       "    <tr>\n",
       "      <th>2012-09-01</th>\n",
       "      <td>1632.18</td>\n",
       "      <td>10319.86</td>\n",
       "    </tr>\n",
       "  </tbody>\n",
       "</table>\n",
       "</div>"
      ],
      "text/plain": [
       "              MICEX    MOEXBC\n",
       "Date                         \n",
       "2012-03-01  1628.12  10296.66\n",
       "2012-04-01  1631.31  10328.87\n",
       "2012-05-01  1617.02  10248.31\n",
       "2012-06-01  1623.43  10282.52\n",
       "2012-09-01  1632.18  10319.86"
      ]
     },
     "execution_count": 4,
     "metadata": {},
     "output_type": "execute_result"
    }
   ],
   "source": [
    "# get data\n",
    "MICEX = pd.read_csv('https://raw.githubusercontent.com/Aurilino/Diploma/master/MAIN_DATA/MOEX.csv'\n",
    "                    , header=0, index_col=0, parse_dates={'Date': [0]}, sep=';')\n",
    "MOEXBC = pd.read_csv('https://raw.githubusercontent.com/Aurilino/Diploma/master/MAIN_DATA/MOEXBC.csv',\n",
    "                     header=0, index_col=0, parse_dates={'Date': [0]}, sep=';')\n",
    "df1 = MICEX.iloc[:, 3]\n",
    "df2 = MOEXBC.iloc[:, 3]\n",
    "df = pd.merge(df1, df2, left_index=True, right_index=True)\n",
    "df.columns = ['MICEX', 'MOEXBC']\n",
    "df.head()"
   ]
  },
  {
   "cell_type": "code",
   "execution_count": 5,
   "metadata": {},
   "outputs": [
    {
     "data": {
      "text/html": [
       "<div>\n",
       "<style scoped>\n",
       "    .dataframe tbody tr th:only-of-type {\n",
       "        vertical-align: middle;\n",
       "    }\n",
       "\n",
       "    .dataframe tbody tr th {\n",
       "        vertical-align: top;\n",
       "    }\n",
       "\n",
       "    .dataframe thead th {\n",
       "        text-align: right;\n",
       "    }\n",
       "</style>\n",
       "<table border=\"1\" class=\"dataframe\">\n",
       "  <thead>\n",
       "    <tr style=\"text-align: right;\">\n",
       "      <th></th>\n",
       "      <th>MICEX</th>\n",
       "      <th>MOEXBC</th>\n",
       "    </tr>\n",
       "    <tr>\n",
       "      <th>Date</th>\n",
       "      <th></th>\n",
       "      <th></th>\n",
       "    </tr>\n",
       "  </thead>\n",
       "  <tbody>\n",
       "    <tr>\n",
       "      <th>2012-04-01</th>\n",
       "      <td>0.001957</td>\n",
       "      <td>0.003123</td>\n",
       "    </tr>\n",
       "    <tr>\n",
       "      <th>2012-05-01</th>\n",
       "      <td>-0.008798</td>\n",
       "      <td>-0.007830</td>\n",
       "    </tr>\n",
       "    <tr>\n",
       "      <th>2012-06-01</th>\n",
       "      <td>0.003956</td>\n",
       "      <td>0.003333</td>\n",
       "    </tr>\n",
       "    <tr>\n",
       "      <th>2012-09-01</th>\n",
       "      <td>0.005375</td>\n",
       "      <td>0.003625</td>\n",
       "    </tr>\n",
       "    <tr>\n",
       "      <th>2012-10-01</th>\n",
       "      <td>0.019500</td>\n",
       "      <td>0.021838</td>\n",
       "    </tr>\n",
       "  </tbody>\n",
       "</table>\n",
       "</div>"
      ],
      "text/plain": [
       "               MICEX    MOEXBC\n",
       "Date                          \n",
       "2012-04-01  0.001957  0.003123\n",
       "2012-05-01 -0.008798 -0.007830\n",
       "2012-06-01  0.003956  0.003333\n",
       "2012-09-01  0.005375  0.003625\n",
       "2012-10-01  0.019500  0.021838"
      ]
     },
     "execution_count": 5,
     "metadata": {},
     "output_type": "execute_result"
    }
   ],
   "source": [
    "# get daily returns\n",
    "ret = df.apply(lambda x: np.log(x)-np.log(x).shift(1))\n",
    "ret.dropna(inplace = True)\n",
    "ret.head()"
   ]
  },
  {
   "cell_type": "code",
   "execution_count": 6,
   "metadata": {},
   "outputs": [
    {
     "name": "stdout",
     "output_type": "stream",
     "text": [
      "MIXEC day return: 0.0489%\n",
      "MOEXBC day return: 0.0482%\n",
      "MIXEC year return: 12.6923%\n",
      "MOEXBC year return: 12.5083%\n"
     ]
    }
   ],
   "source": [
    "mixec_means = np.mean(ret['MICEX'])\n",
    "blue = np.mean(ret['MOEXBC'])\n",
    "print('MIXEC day return: ', round(mixec_means * 100, 4), '%', sep='')\n",
    "print('MOEXBC day return: ', round(blue * 100, 4), '%', sep='')\n",
    "print('MIXEC year return: ', round(mixec_means * (len(ret.index) / 7) * 100, 4), '%', sep='')\n",
    "print('MOEXBC year return: ', round(blue * (len(ret.index) / 7) * 100, 4), '%', sep='')"
   ]
  },
  {
   "cell_type": "markdown",
   "metadata": {},
   "source": [
    "## The returns for 7 years in the indices is almost the same.\n",
    "## Let's try to calculate the yield for each index for a certain year."
   ]
  },
  {
   "cell_type": "code",
   "execution_count": 7,
   "metadata": {},
   "outputs": [],
   "source": [
    "test = ret.iloc[:1813, :]\n",
    "mean_moex = []\n",
    "vol_moex = []\n",
    "mean_blue = []\n",
    "vol_blue = []\n",
    "i = 0\n",
    "j = i + 259\n",
    "while j <= (len(test.index) + 1):\n",
    "    mean_moex.append(np.mean(test.iloc[i:j, 0]) * 259)\n",
    "    vol_moex.append(np.std(test.iloc[i:j, 0]) * np.sqrt(259))\n",
    "    mean_blue.append(np.mean(test.iloc[i:j, 1]) * 259)\n",
    "    vol_blue.append(np.std(test.iloc[i:j, 1]) * np.sqrt(259))\n",
    "    i += 259\n",
    "    j += 259"
   ]
  },
  {
   "cell_type": "code",
   "execution_count": 8,
   "metadata": {},
   "outputs": [
    {
     "data": {
      "text/html": [
       "<div>\n",
       "<style scoped>\n",
       "    .dataframe tbody tr th:only-of-type {\n",
       "        vertical-align: middle;\n",
       "    }\n",
       "\n",
       "    .dataframe tbody tr th {\n",
       "        vertical-align: top;\n",
       "    }\n",
       "\n",
       "    .dataframe thead th {\n",
       "        text-align: right;\n",
       "    }\n",
       "</style>\n",
       "<table border=\"1\" class=\"dataframe\">\n",
       "  <thead>\n",
       "    <tr style=\"text-align: right;\">\n",
       "      <th></th>\n",
       "      <th>M_m</th>\n",
       "      <th>M_v</th>\n",
       "      <th>B_m</th>\n",
       "      <th>B_v</th>\n",
       "      <th>M_sharp</th>\n",
       "      <th>B_sharp</th>\n",
       "    </tr>\n",
       "  </thead>\n",
       "  <tbody>\n",
       "    <tr>\n",
       "      <th>12-13</th>\n",
       "      <td>0.090265</td>\n",
       "      <td>0.197595</td>\n",
       "      <td>0.093333</td>\n",
       "      <td>0.195007</td>\n",
       "      <td>0.077256</td>\n",
       "      <td>0.094010</td>\n",
       "    </tr>\n",
       "    <tr>\n",
       "      <th>13-14</th>\n",
       "      <td>0.019270</td>\n",
       "      <td>0.159218</td>\n",
       "      <td>0.010421</td>\n",
       "      <td>0.158113</td>\n",
       "      <td>-0.350025</td>\n",
       "      <td>-0.408433</td>\n",
       "    </tr>\n",
       "    <tr>\n",
       "      <th>14-15</th>\n",
       "      <td>0.181611</td>\n",
       "      <td>0.251705</td>\n",
       "      <td>0.165072</td>\n",
       "      <td>0.260594</td>\n",
       "      <td>0.423557</td>\n",
       "      <td>0.345640</td>\n",
       "    </tr>\n",
       "    <tr>\n",
       "      <th>15-16</th>\n",
       "      <td>0.112569</td>\n",
       "      <td>0.202450</td>\n",
       "      <td>0.108620</td>\n",
       "      <td>0.216355</td>\n",
       "      <td>0.185571</td>\n",
       "      <td>0.155393</td>\n",
       "    </tr>\n",
       "    <tr>\n",
       "      <th>16-17</th>\n",
       "      <td>0.174397</td>\n",
       "      <td>0.138531</td>\n",
       "      <td>0.155886</td>\n",
       "      <td>0.150952</td>\n",
       "      <td>0.717508</td>\n",
       "      <td>0.535839</td>\n",
       "    </tr>\n",
       "    <tr>\n",
       "      <th>17-18</th>\n",
       "      <td>0.174782</td>\n",
       "      <td>0.133767</td>\n",
       "      <td>0.180874</td>\n",
       "      <td>0.143771</td>\n",
       "      <td>0.745941</td>\n",
       "      <td>0.736405</td>\n",
       "    </tr>\n",
       "    <tr>\n",
       "      <th>18-19</th>\n",
       "      <td>0.129992</td>\n",
       "      <td>0.168678</td>\n",
       "      <td>0.153500</td>\n",
       "      <td>0.181434</td>\n",
       "      <td>0.326018</td>\n",
       "      <td>0.432662</td>\n",
       "    </tr>\n",
       "  </tbody>\n",
       "</table>\n",
       "</div>"
      ],
      "text/plain": [
       "            M_m       M_v       B_m       B_v   M_sharp   B_sharp\n",
       "12-13  0.090265  0.197595  0.093333  0.195007  0.077256  0.094010\n",
       "13-14  0.019270  0.159218  0.010421  0.158113 -0.350025 -0.408433\n",
       "14-15  0.181611  0.251705  0.165072  0.260594  0.423557  0.345640\n",
       "15-16  0.112569  0.202450  0.108620  0.216355  0.185571  0.155393\n",
       "16-17  0.174397  0.138531  0.155886  0.150952  0.717508  0.535839\n",
       "17-18  0.174782  0.133767  0.180874  0.143771  0.745941  0.736405\n",
       "18-19  0.129992  0.168678  0.153500  0.181434  0.326018  0.432662"
      ]
     },
     "execution_count": 8,
     "metadata": {},
     "output_type": "execute_result"
    }
   ],
   "source": [
    "data = dict(M_m = mean_moex, M_v = vol_moex, B_m = mean_blue, B_v = vol_blue)\n",
    "main = pd.DataFrame(data)\n",
    "# risk free rate = 7.5%\n",
    "main['M_sharp'] = (main['M_m'] - .075) / main['M_v']\n",
    "main['B_sharp'] = (main['B_m'] - .075) / main['B_v']\n",
    "ind_1 = [i for i in range(12, 19)]\n",
    "ind_2 = [i for i in range(13, 20)]\n",
    "ind = [str(ind_1[i]) + '-' + str(ind_2[i]) for i in range(7)]\n",
    "main.index = ind\n",
    "main"
   ]
  },
  {
   "cell_type": "code",
   "execution_count": 9,
   "metadata": {},
   "outputs": [
    {
     "data": {
      "image/png": "[encoded data removed]",
      "text/plain": [
       "<Figure size 432x288 with 1 Axes>"
      ]
     },
     "metadata": {
      "needs_background": "light"
     },
     "output_type": "display_data"
    }
   ],
   "source": [
    "# _=plt.figure(figsize = (15, 10))\n",
    "_=plt.plot(main.index, main['M_sharp'], c = 'r', marker='o', label = 'MICEX')\n",
    "_=plt.plot(main.index, main['B_sharp'], c = 'b', marker='o', label = 'MOEXBC')\n",
    "_=plt.grid(True)\n",
    "_=plt.legend(bbox_to_anchor=(.2, 1), loc=2, borderaxespad=2)\n",
    "ax = plt.gca()\n",
    "# _=ax.set_title('Sharpe ratio to MIXEC and MOEXBC by year', fontsize=20)\n",
    "_=ax.set_xlabel('Years', fontsize=10)\n",
    "_=ax.set_ylabel('Sharpe ratio', fontsize=10)"
   ]
  }
 ],
 "metadata": {
  "kernelspec": {
   "display_name": "Python 3",
   "language": "python",
   "name": "python3"
  },
  "language_info": {
   "codemirror_mode": {
    "name": "ipython",
    "version": 3
   },
   "file_extension": ".py",
   "mimetype": "text/x-python",
   "name": "python",
   "nbconvert_exporter": "python",
   "pygments_lexer": "ipython3",
   "version": "3.7.2"
  }
 },
 "nbformat": 4,
 "nbformat_minor": 2
}

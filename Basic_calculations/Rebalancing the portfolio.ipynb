{
 "cells": [
  {
   "cell_type": "markdown",
   "metadata": {},
   "source": [
    "### Rebalancing the portfolio\n",
    "#### 10.05.2019"
   ]
  },
  {
   "cell_type": "code",
   "execution_count": 2,
   "metadata": {},
   "outputs": [],
   "source": [
    "# connection necessary packeges\n",
    "import pandas as pd\n",
    "import numpy as np\n",
    "import matplotlib.pyplot as plt\n",
    "import scipy.optimize as sco"
   ]
  },
  {
   "cell_type": "markdown",
   "metadata": {},
   "source": [
    "## Helpfull functions"
   ]
  },
  {
   "cell_type": "code",
   "execution_count": 3,
   "metadata": {},
   "outputs": [],
   "source": [
    "# profitability of the portfolio\n",
    "def port_mean(d, means, n_days=250):\n",
    "    d = np.array(d)\n",
    "    return np.sum(means * d) * n_days\n",
    "\n",
    "\n",
    "# volatility of the portfolio\n",
    "def port_vol(d, cov, n_days=250):\n",
    "    d = np.array(d)\n",
    "    return np.sqrt(np.dot(d.T, np.dot(cov * n_days, d)))\n",
    "\n",
    "\n",
    "# best portfolio\n",
    "def port_best(d, cov, means, n_days=250):\n",
    "    d = np.array(d)\n",
    "    mean = np.sum(means * d) * n_days\n",
    "    vol = np.sqrt(np.dot(d.T, np.dot(cov * n_days, d)))\n",
    "    return -(mean / vol)\n",
    "\n",
    "    \n",
    "# Vallue at Risk (VaR) of asset\n",
    "def asset_VaR(df, alpha = 5):\n",
    "    var = []\n",
    "    col = list(df.columns)\n",
    "    for i in col:\n",
    "        num = sorted(list(df[i]))\n",
    "        var.append(-np.percentile(num, 5))\n",
    "    return var\n",
    "\n",
    "\n",
    "# Portfolio Value at Risk \n",
    "def port_VaR(weights, var):\n",
    "    a = np.array(weights)\n",
    "    b = np.array(var)\n",
    "    return np.dot(a, b)\n",
    "\n",
    "\n",
    "# Flag\n",
    "def flag(df, n_assets):\n",
    "    df['Flag'] = 0\n",
    "    for i in range(1, len(df.index)):\n",
    "        b = i - 1\n",
    "        if df.index.year[i] != df.index.year[b] or i == (len(df.index) - 1):\n",
    "            df.iloc[i, n_assets] = 1\n",
    "            \n",
    "\n",
    "# Start - Stop\n",
    "def sr_st(df):\n",
    "    start =[str(post_per.index[0])[:10]]\n",
    "    for i in un.index[:-1]:\n",
    "        b = str(i)[:10]\n",
    "        start.append(b)\n",
    "    stop = []\n",
    "    for i in un.index:\n",
    "        b = str(i)[:10]\n",
    "        stop.append(b)\n",
    "    return start, stop\n",
    "\n",
    "        \n",
    "# filter dataframe\n",
    "def filter_df(df, start, stop):\n",
    "        df = df[df.index >= start]\n",
    "        df = df[df.index <= stop]\n",
    "        return df\n"
   ]
  },
  {
   "cell_type": "code",
   "execution_count": 36,
   "metadata": {
    "scrolled": false
   },
   "outputs": [],
   "source": [
    "# data parse\n",
    "dateparse = lambda x: pd.datetime.strptime(x, '%d.%m.%Y')\n",
    "# download and calculate data\n",
    "index = pd.read_csv('https://raw.githubusercontent.com/Aurilino/Diploma/master/MAIN_DATA/MOEXBC_c.csv'\n",
    "                    , header=0, index_col=0, parse_dates={'Index_Date': [0]}, date_parser=dateparse, sep=';')\n",
    "bond = pd.read_csv('https://raw.githubusercontent.com/Aurilino/Diploma/master/MAIN_DATA/RGBITR_c.csv'\n",
    "                    , header=0, index_col=0, parse_dates={'Index_Date': [0]}, date_parser=dateparse, sep=';')\n",
    "col = index.columns.values\n",
    "for c in col:\n",
    "    if c == 'CLOSE':\n",
    "        continue\n",
    "    del index[c]\n",
    "    del bond[c]\n",
    "port_weight = [.5, .5]\n",
    "n_assets = 2"
   ]
  },
  {
   "cell_type": "code",
   "execution_count": 37,
   "metadata": {},
   "outputs": [
    {
     "data": {
      "text/html": [
       "<div>\n",
       "<style scoped>\n",
       "    .dataframe tbody tr th:only-of-type {\n",
       "        vertical-align: middle;\n",
       "    }\n",
       "\n",
       "    .dataframe tbody tr th {\n",
       "        vertical-align: top;\n",
       "    }\n",
       "\n",
       "    .dataframe thead th {\n",
       "        text-align: right;\n",
       "    }\n",
       "</style>\n",
       "<table border=\"1\" class=\"dataframe\">\n",
       "  <thead>\n",
       "    <tr style=\"text-align: right;\">\n",
       "      <th></th>\n",
       "      <th>Index</th>\n",
       "      <th>Bond</th>\n",
       "      <th>Flag</th>\n",
       "    </tr>\n",
       "    <tr>\n",
       "      <th>Index_Date</th>\n",
       "      <th></th>\n",
       "      <th></th>\n",
       "      <th></th>\n",
       "    </tr>\n",
       "  </thead>\n",
       "  <tbody>\n",
       "    <tr>\n",
       "      <th>2012-04-02</th>\n",
       "      <td>10385.31</td>\n",
       "      <td>284.03</td>\n",
       "      <td>0</td>\n",
       "    </tr>\n",
       "    <tr>\n",
       "      <th>2012-04-03</th>\n",
       "      <td>10581.19</td>\n",
       "      <td>284.09</td>\n",
       "      <td>0</td>\n",
       "    </tr>\n",
       "    <tr>\n",
       "      <th>2012-04-04</th>\n",
       "      <td>10337.60</td>\n",
       "      <td>283.81</td>\n",
       "      <td>0</td>\n",
       "    </tr>\n",
       "    <tr>\n",
       "      <th>2012-04-05</th>\n",
       "      <td>10427.70</td>\n",
       "      <td>283.85</td>\n",
       "      <td>0</td>\n",
       "    </tr>\n",
       "    <tr>\n",
       "      <th>2012-04-06</th>\n",
       "      <td>10240.05</td>\n",
       "      <td>283.69</td>\n",
       "      <td>0</td>\n",
       "    </tr>\n",
       "  </tbody>\n",
       "</table>\n",
       "</div>"
      ],
      "text/plain": [
       "               Index    Bond  Flag\n",
       "Index_Date                        \n",
       "2012-04-02  10385.31  284.03     0\n",
       "2012-04-03  10581.19  284.09     0\n",
       "2012-04-04  10337.60  283.81     0\n",
       "2012-04-05  10427.70  283.85     0\n",
       "2012-04-06  10240.05  283.69     0"
      ]
     },
     "execution_count": 37,
     "metadata": {},
     "output_type": "execute_result"
    }
   ],
   "source": [
    "main = pd.merge(index, bond, left_index = True, right_index = True)\n",
    "main.columns = ['Index', 'Bond']\n",
    "flag(main, n_assets)\n",
    "main.head()"
   ]
  },
  {
   "cell_type": "code",
   "execution_count": 38,
   "metadata": {},
   "outputs": [
    {
     "name": "stdout",
     "output_type": "stream",
     "text": [
      "4.8145 176.0377\n",
      "50000.07 49999.99 100000.06\n"
     ]
    }
   ],
   "source": [
    "# portfolio value\n",
    "v = 100000\n",
    "p_v = [i * v for i in port_weight]\n",
    "# assets share\n",
    "bc_share = round(p_v[0] / main['Index'][0], 4)\n",
    "bn_share = round(p_v[1] / main['Bond'][0], 4)\n",
    "print(*[bc_share, bn_share])\n",
    "print(round(bc_share * main['Index'][0], 2), round(bn_share * main['Bond'][0], 2), \n",
    "     round(bc_share * main['Index'][0], 2) + round(bn_share * main['Bond'][0], 2))"
   ]
  },
  {
   "cell_type": "code",
   "execution_count": 39,
   "metadata": {},
   "outputs": [],
   "source": [
    "blu = round(v / main['Index'][0])\n",
    "bnd = round(v / main['Bond'][0])"
   ]
  },
  {
   "cell_type": "code",
   "execution_count": 40,
   "metadata": {},
   "outputs": [
    {
     "data": {
      "text/html": [
       "<div>\n",
       "<style scoped>\n",
       "    .dataframe tbody tr th:only-of-type {\n",
       "        vertical-align: middle;\n",
       "    }\n",
       "\n",
       "    .dataframe tbody tr th {\n",
       "        vertical-align: top;\n",
       "    }\n",
       "\n",
       "    .dataframe thead th {\n",
       "        text-align: right;\n",
       "    }\n",
       "</style>\n",
       "<table border=\"1\" class=\"dataframe\">\n",
       "  <thead>\n",
       "    <tr style=\"text-align: right;\">\n",
       "      <th></th>\n",
       "      <th>Blue Chips</th>\n",
       "      <th>Bond Index</th>\n",
       "      <th>Index Share</th>\n",
       "      <th>Bond Share</th>\n",
       "      <th>Index</th>\n",
       "      <th>Bond</th>\n",
       "      <th>50/50</th>\n",
       "      <th>Port</th>\n",
       "      <th>Flag</th>\n",
       "      <th>ss</th>\n",
       "    </tr>\n",
       "    <tr>\n",
       "      <th>Index_Date</th>\n",
       "      <th></th>\n",
       "      <th></th>\n",
       "      <th></th>\n",
       "      <th></th>\n",
       "      <th></th>\n",
       "      <th></th>\n",
       "      <th></th>\n",
       "      <th></th>\n",
       "      <th></th>\n",
       "      <th></th>\n",
       "    </tr>\n",
       "  </thead>\n",
       "  <tbody>\n",
       "    <tr>\n",
       "      <th>2012-04-02</th>\n",
       "      <td>10385.31</td>\n",
       "      <td>284.03</td>\n",
       "      <td>4.8145</td>\n",
       "      <td>176.0377</td>\n",
       "      <td>103853.1</td>\n",
       "      <td>99978.56</td>\n",
       "      <td>100000.062926</td>\n",
       "      <td>100000.062926</td>\n",
       "      <td>0</td>\n",
       "      <td>0.500000</td>\n",
       "    </tr>\n",
       "    <tr>\n",
       "      <th>2012-04-03</th>\n",
       "      <td>10581.19</td>\n",
       "      <td>284.09</td>\n",
       "      <td>4.8145</td>\n",
       "      <td>176.0377</td>\n",
       "      <td>105811.9</td>\n",
       "      <td>99999.68</td>\n",
       "      <td>100953.689448</td>\n",
       "      <td>100953.689448</td>\n",
       "      <td>0</td>\n",
       "      <td>0.504619</td>\n",
       "    </tr>\n",
       "    <tr>\n",
       "      <th>2012-04-04</th>\n",
       "      <td>10337.60</td>\n",
       "      <td>283.81</td>\n",
       "      <td>4.8145</td>\n",
       "      <td>176.0377</td>\n",
       "      <td>103376.0</td>\n",
       "      <td>99901.12</td>\n",
       "      <td>99731.634837</td>\n",
       "      <td>99731.634837</td>\n",
       "      <td>0</td>\n",
       "      <td>0.499043</td>\n",
       "    </tr>\n",
       "    <tr>\n",
       "      <th>2012-04-05</th>\n",
       "      <td>10427.70</td>\n",
       "      <td>283.85</td>\n",
       "      <td>4.8145</td>\n",
       "      <td>176.0377</td>\n",
       "      <td>104277.0</td>\n",
       "      <td>99915.20</td>\n",
       "      <td>100172.462795</td>\n",
       "      <td>100172.462795</td>\n",
       "      <td>0</td>\n",
       "      <td>0.501177</td>\n",
       "    </tr>\n",
       "    <tr>\n",
       "      <th>2012-04-06</th>\n",
       "      <td>10240.05</td>\n",
       "      <td>283.69</td>\n",
       "      <td>4.8145</td>\n",
       "      <td>176.0377</td>\n",
       "      <td>102400.5</td>\n",
       "      <td>99858.88</td>\n",
       "      <td>99240.855838</td>\n",
       "      <td>99240.855838</td>\n",
       "      <td>0</td>\n",
       "      <td>0.496778</td>\n",
       "    </tr>\n",
       "  </tbody>\n",
       "</table>\n",
       "</div>"
      ],
      "text/plain": [
       "            Blue Chips  Bond Index  Index Share  Bond Share     Index  \\\n",
       "Index_Date                                                              \n",
       "2012-04-02    10385.31      284.03       4.8145    176.0377  103853.1   \n",
       "2012-04-03    10581.19      284.09       4.8145    176.0377  105811.9   \n",
       "2012-04-04    10337.60      283.81       4.8145    176.0377  103376.0   \n",
       "2012-04-05    10427.70      283.85       4.8145    176.0377  104277.0   \n",
       "2012-04-06    10240.05      283.69       4.8145    176.0377  102400.5   \n",
       "\n",
       "                Bond          50/50           Port  Flag        ss  \n",
       "Index_Date                                                          \n",
       "2012-04-02  99978.56  100000.062926  100000.062926     0  0.500000  \n",
       "2012-04-03  99999.68  100953.689448  100953.689448     0  0.504619  \n",
       "2012-04-04  99901.12   99731.634837   99731.634837     0  0.499043  \n",
       "2012-04-05  99915.20  100172.462795  100172.462795     0  0.501177  \n",
       "2012-04-06  99858.88   99240.855838   99240.855838     0  0.496778  "
      ]
     },
     "execution_count": 40,
     "metadata": {},
     "output_type": "execute_result"
    }
   ],
   "source": [
    "work_block = pd.DataFrame({\n",
    "    'Blue Chips': main['Index'], 'Bond Index': main['Bond'],\n",
    "    'Index Share': bc_share, 'Bond Share': bn_share,\n",
    "    'Index': main['Index'] * blu, 'Bond': main['Bond'] * bnd,\n",
    "    '50/50': main['Index'] * bc_share + main['Bond'] * bn_share,\n",
    "                           })\n",
    "work_block['Port'] = work_block['50/50']\n",
    "work_block['Flag'] = main['Flag']\n",
    "work_block['ss'] = work_block['Blue Chips'] * work_block['Index Share'] / work_block['50/50']\n",
    "work_block.head()"
   ]
  },
  {
   "cell_type": "code",
   "execution_count": 41,
   "metadata": {},
   "outputs": [
    {
     "data": {
      "image/png": "[encoded data removed]",
      "text/plain": [
       "<Figure size 432x288 with 1 Axes>"
      ]
     },
     "metadata": {
      "needs_background": "light"
     },
     "output_type": "display_data"
    }
   ],
   "source": [
    "_=plt.plot(work_block.index, work_block['ss'])\n",
    "_=plt.xlabel('Years')\n",
    "_=plt.ylabel('Fluctuation of the Blue Chip share')"
   ]
  },
  {
   "cell_type": "code",
   "execution_count": 17,
   "metadata": {},
   "outputs": [],
   "source": [
    "# portfolio rebalancing\n",
    "num = len(work_block)\n",
    "for i in range(1, num):\n",
    "    b = i - 1\n",
    "    if work_block.iloc[i, 8] == 1:\n",
    "        work_block.iloc[i, 2] = work_block.iloc[i, 7] / (2 * work_block.iloc[i, 0])\n",
    "        work_block.iloc[i, 3] = work_block.iloc[i, 7] / (2 * work_block.iloc[i, 1])\n",
    "        work_block.iloc[i, 7] = work_block.iloc[i, 0] * work_block.iloc[i, 2] + work_block.iloc[i, 1] * work_block.iloc[i, 3]\n",
    "    else:\n",
    "        work_block.iloc[i, 2] = work_block.iloc[b, 2]\n",
    "        work_block.iloc[i, 3] = work_block.iloc[b, 3]\n",
    "        work_block.iloc[i, 7] = work_block.iloc[i, 0] * work_block.iloc[i, 2] + work_block.iloc[i, 1] * work_block.iloc[i, 3]"
   ]
  },
  {
   "cell_type": "code",
   "execution_count": 18,
   "metadata": {},
   "outputs": [
    {
     "data": {
      "text/html": [
       "<div>\n",
       "<style scoped>\n",
       "    .dataframe tbody tr th:only-of-type {\n",
       "        vertical-align: middle;\n",
       "    }\n",
       "\n",
       "    .dataframe tbody tr th {\n",
       "        vertical-align: top;\n",
       "    }\n",
       "\n",
       "    .dataframe thead th {\n",
       "        text-align: right;\n",
       "    }\n",
       "</style>\n",
       "<table border=\"1\" class=\"dataframe\">\n",
       "  <thead>\n",
       "    <tr style=\"text-align: right;\">\n",
       "      <th></th>\n",
       "      <th>Index</th>\n",
       "      <th>Bond</th>\n",
       "      <th>50/50</th>\n",
       "      <th>Port</th>\n",
       "      <th>ss</th>\n",
       "    </tr>\n",
       "    <tr>\n",
       "      <th>Index_Date</th>\n",
       "      <th></th>\n",
       "      <th></th>\n",
       "      <th></th>\n",
       "      <th></th>\n",
       "      <th></th>\n",
       "    </tr>\n",
       "  </thead>\n",
       "  <tbody>\n",
       "    <tr>\n",
       "      <th>2012-04-02</th>\n",
       "      <td>103853.1</td>\n",
       "      <td>99978.56</td>\n",
       "      <td>100000.120845</td>\n",
       "      <td>100000.120845</td>\n",
       "      <td>0.800000</td>\n",
       "    </tr>\n",
       "    <tr>\n",
       "      <th>2012-04-03</th>\n",
       "      <td>105811.9</td>\n",
       "      <td>99999.68</td>\n",
       "      <td>101513.248567</td>\n",
       "      <td>101513.248567</td>\n",
       "      <td>0.802940</td>\n",
       "    </tr>\n",
       "    <tr>\n",
       "      <th>2012-04-04</th>\n",
       "      <td>103376.0</td>\n",
       "      <td>99901.12</td>\n",
       "      <td>99617.109851</td>\n",
       "      <td>99617.109851</td>\n",
       "      <td>0.799387</td>\n",
       "    </tr>\n",
       "    <tr>\n",
       "      <th>2012-04-05</th>\n",
       "      <td>104277.0</td>\n",
       "      <td>99915.20</td>\n",
       "      <td>100313.984775</td>\n",
       "      <td>100313.984775</td>\n",
       "      <td>0.800752</td>\n",
       "    </tr>\n",
       "    <tr>\n",
       "      <th>2012-04-06</th>\n",
       "      <td>102400.5</td>\n",
       "      <td>99858.88</td>\n",
       "      <td>98857.212879</td>\n",
       "      <td>98857.212879</td>\n",
       "      <td>0.797930</td>\n",
       "    </tr>\n",
       "  </tbody>\n",
       "</table>\n",
       "</div>"
      ],
      "text/plain": [
       "               Index      Bond          50/50           Port        ss\n",
       "Index_Date                                                            \n",
       "2012-04-02  103853.1  99978.56  100000.120845  100000.120845  0.800000\n",
       "2012-04-03  105811.9  99999.68  101513.248567  101513.248567  0.802940\n",
       "2012-04-04  103376.0  99901.12   99617.109851   99617.109851  0.799387\n",
       "2012-04-05  104277.0  99915.20  100313.984775  100313.984775  0.800752\n",
       "2012-04-06  102400.5  99858.88   98857.212879   98857.212879  0.797930"
      ]
     },
     "execution_count": 18,
     "metadata": {},
     "output_type": "execute_result"
    }
   ],
   "source": [
    "temp = work_block.copy()\n",
    "del temp['Blue Chips']\n",
    "del temp['Bond Index']\n",
    "del temp['Index Share']\n",
    "del temp['Bond Share']\n",
    "del temp['Flag']\n",
    "temp.head()"
   ]
  },
  {
   "cell_type": "code",
   "execution_count": 19,
   "metadata": {},
   "outputs": [
    {
     "data": {
      "text/plain": [
       "Text(0.5, 0, 'Years')"
      ]
     },
     "execution_count": 19,
     "metadata": {},
     "output_type": "execute_result"
    },
    {
     "data": {
      "image/png": "[encoded data removed]",
      "text/plain": [
       "<Figure size 432x288 with 1 Axes>"
      ]
     },
     "metadata": {
      "needs_background": "light"
     },
     "output_type": "display_data"
    }
   ],
   "source": [
    "ax = temp.plot()\n",
    "ax.set_ylabel(\"Price, rub\")\n",
    "ax.set_xlabel(\"Years\")"
   ]
  },
  {
   "cell_type": "code",
   "execution_count": 20,
   "metadata": {},
   "outputs": [
    {
     "data": {
      "image/png": "[encoded data removed]",
      "text/plain": [
       "<Figure size 432x288 with 1 Axes>"
      ]
     },
     "metadata": {
      "needs_background": "light"
     },
     "output_type": "display_data"
    }
   ],
   "source": [
    "_=plt.plot(work_block.index, (work_block['Port'] - work_block['50/50']))\n",
    "_=plt.xlabel('Year')\n",
    "_=plt.ylabel('Difference, rub')"
   ]
  },
  {
   "cell_type": "markdown",
   "metadata": {},
   "source": [
    "### Rebalancing once a month"
   ]
  },
  {
   "cell_type": "code",
   "execution_count": 21,
   "metadata": {},
   "outputs": [],
   "source": [
    "# Flag month\n",
    "def flag_m(df, n_assets):\n",
    "    df['Flag'] = 0\n",
    "    for i in range(1, len(df.index)):\n",
    "        b = i - 1\n",
    "        if df.index.month[i] != df.index.month[b] or i == (len(df.index) - 1):\n",
    "            df.iloc[i, n_assets] = 1"
   ]
  },
  {
   "cell_type": "code",
   "execution_count": 22,
   "metadata": {},
   "outputs": [],
   "source": [
    "main_month = main.copy()\n",
    "flag_m(main_month, n_assets)"
   ]
  },
  {
   "cell_type": "code",
   "execution_count": 23,
   "metadata": {},
   "outputs": [
    {
     "name": "stdout",
     "output_type": "stream",
     "text": [
      "7.7032 70.4151\n",
      "80000.12 20000.0 100000.12\n"
     ]
    },
    {
     "data": {
      "text/html": [
       "<div>\n",
       "<style scoped>\n",
       "    .dataframe tbody tr th:only-of-type {\n",
       "        vertical-align: middle;\n",
       "    }\n",
       "\n",
       "    .dataframe tbody tr th {\n",
       "        vertical-align: top;\n",
       "    }\n",
       "\n",
       "    .dataframe thead th {\n",
       "        text-align: right;\n",
       "    }\n",
       "</style>\n",
       "<table border=\"1\" class=\"dataframe\">\n",
       "  <thead>\n",
       "    <tr style=\"text-align: right;\">\n",
       "      <th></th>\n",
       "      <th>Blue Chips</th>\n",
       "      <th>Bond Index</th>\n",
       "      <th>Index Share</th>\n",
       "      <th>Bond Share</th>\n",
       "      <th>Index</th>\n",
       "      <th>Bond</th>\n",
       "      <th>50/50</th>\n",
       "      <th>Port</th>\n",
       "      <th>Flag</th>\n",
       "    </tr>\n",
       "    <tr>\n",
       "      <th>Index_Date</th>\n",
       "      <th></th>\n",
       "      <th></th>\n",
       "      <th></th>\n",
       "      <th></th>\n",
       "      <th></th>\n",
       "      <th></th>\n",
       "      <th></th>\n",
       "      <th></th>\n",
       "      <th></th>\n",
       "    </tr>\n",
       "  </thead>\n",
       "  <tbody>\n",
       "    <tr>\n",
       "      <th>2012-04-02</th>\n",
       "      <td>10385.31</td>\n",
       "      <td>284.03</td>\n",
       "      <td>7.7032</td>\n",
       "      <td>70.4151</td>\n",
       "      <td>103853.1</td>\n",
       "      <td>99978.56</td>\n",
       "      <td>100000.120845</td>\n",
       "      <td>100000.120845</td>\n",
       "      <td>0</td>\n",
       "    </tr>\n",
       "    <tr>\n",
       "      <th>2012-04-03</th>\n",
       "      <td>10581.19</td>\n",
       "      <td>284.09</td>\n",
       "      <td>7.7032</td>\n",
       "      <td>70.4151</td>\n",
       "      <td>105811.9</td>\n",
       "      <td>99999.68</td>\n",
       "      <td>101513.248567</td>\n",
       "      <td>101513.248567</td>\n",
       "      <td>0</td>\n",
       "    </tr>\n",
       "    <tr>\n",
       "      <th>2012-04-04</th>\n",
       "      <td>10337.60</td>\n",
       "      <td>283.81</td>\n",
       "      <td>7.7032</td>\n",
       "      <td>70.4151</td>\n",
       "      <td>103376.0</td>\n",
       "      <td>99901.12</td>\n",
       "      <td>99617.109851</td>\n",
       "      <td>99617.109851</td>\n",
       "      <td>0</td>\n",
       "    </tr>\n",
       "    <tr>\n",
       "      <th>2012-04-05</th>\n",
       "      <td>10427.70</td>\n",
       "      <td>283.85</td>\n",
       "      <td>7.7032</td>\n",
       "      <td>70.4151</td>\n",
       "      <td>104277.0</td>\n",
       "      <td>99915.20</td>\n",
       "      <td>100313.984775</td>\n",
       "      <td>100313.984775</td>\n",
       "      <td>0</td>\n",
       "    </tr>\n",
       "    <tr>\n",
       "      <th>2012-04-06</th>\n",
       "      <td>10240.05</td>\n",
       "      <td>283.69</td>\n",
       "      <td>7.7032</td>\n",
       "      <td>70.4151</td>\n",
       "      <td>102400.5</td>\n",
       "      <td>99858.88</td>\n",
       "      <td>98857.212879</td>\n",
       "      <td>98857.212879</td>\n",
       "      <td>0</td>\n",
       "    </tr>\n",
       "  </tbody>\n",
       "</table>\n",
       "</div>"
      ],
      "text/plain": [
       "            Blue Chips  Bond Index  Index Share  Bond Share     Index  \\\n",
       "Index_Date                                                              \n",
       "2012-04-02    10385.31      284.03       7.7032     70.4151  103853.1   \n",
       "2012-04-03    10581.19      284.09       7.7032     70.4151  105811.9   \n",
       "2012-04-04    10337.60      283.81       7.7032     70.4151  103376.0   \n",
       "2012-04-05    10427.70      283.85       7.7032     70.4151  104277.0   \n",
       "2012-04-06    10240.05      283.69       7.7032     70.4151  102400.5   \n",
       "\n",
       "                Bond          50/50           Port  Flag  \n",
       "Index_Date                                                \n",
       "2012-04-02  99978.56  100000.120845  100000.120845     0  \n",
       "2012-04-03  99999.68  101513.248567  101513.248567     0  \n",
       "2012-04-04  99901.12   99617.109851   99617.109851     0  \n",
       "2012-04-05  99915.20  100313.984775  100313.984775     0  \n",
       "2012-04-06  99858.88   98857.212879   98857.212879     0  "
      ]
     },
     "execution_count": 23,
     "metadata": {},
     "output_type": "execute_result"
    }
   ],
   "source": [
    "# portfolio value\n",
    "v = 100000\n",
    "p_v = [i * v for i in port_weight]\n",
    "# assets share\n",
    "bc_share = round(p_v[0] / main_month['Index'][0], 4)\n",
    "bn_share = round(p_v[1] / main_month['Bond'][0], 4)\n",
    "print(*[bc_share, bn_share])\n",
    "print(round(bc_share * main_month['Index'][0], 2), round(bn_share * main_month['Bond'][0], 2), \n",
    "     round(bc_share * main_month['Index'][0], 2) + round(bn_share * main_month['Bond'][0], 2))\n",
    "blu = round(v / main_month['Index'][0])\n",
    "bnd = round(v / main_month['Bond'][0])\n",
    "work_block = pd.DataFrame({\n",
    "    'Blue Chips': main_month['Index'], 'Bond Index': main_month['Bond'],\n",
    "    'Index Share': bc_share, 'Bond Share': bn_share,\n",
    "    'Index': main_month['Index'] * blu, 'Bond': main_month['Bond'] * bnd,\n",
    "    '50/50': main_month['Index'] * bc_share + main_month['Bond'] * bn_share\n",
    "                           })\n",
    "work_block['Port'] = work_block['50/50']\n",
    "work_block['Flag'] = main_month['Flag']\n",
    "work_block.head()"
   ]
  },
  {
   "cell_type": "code",
   "execution_count": 24,
   "metadata": {},
   "outputs": [],
   "source": [
    "# portfolio rebalancing\n",
    "num = len(work_block)\n",
    "for i in range(1, num):\n",
    "    b = i - 1\n",
    "    if work_block.iloc[i, 8] == 1:\n",
    "        work_block.iloc[i, 2] = work_block.iloc[i, 7] / (2 * work_block.iloc[i, 0])\n",
    "        work_block.iloc[i, 3] = work_block.iloc[i, 7] / (2 * work_block.iloc[i, 1])\n",
    "        work_block.iloc[i, 7] = work_block.iloc[i, 0] * work_block.iloc[i, 2] + work_block.iloc[i, 1] * work_block.iloc[i, 3]\n",
    "    else:\n",
    "        work_block.iloc[i, 2] = work_block.iloc[b, 2]\n",
    "        work_block.iloc[i, 3] = work_block.iloc[b, 3]\n",
    "        work_block.iloc[i, 7] = work_block.iloc[i, 0] * work_block.iloc[i, 2] + work_block.iloc[i, 1] * work_block.iloc[i, 3]"
   ]
  },
  {
   "cell_type": "code",
   "execution_count": 25,
   "metadata": {},
   "outputs": [
    {
     "data": {
      "text/html": [
       "<div>\n",
       "<style scoped>\n",
       "    .dataframe tbody tr th:only-of-type {\n",
       "        vertical-align: middle;\n",
       "    }\n",
       "\n",
       "    .dataframe tbody tr th {\n",
       "        vertical-align: top;\n",
       "    }\n",
       "\n",
       "    .dataframe thead th {\n",
       "        text-align: right;\n",
       "    }\n",
       "</style>\n",
       "<table border=\"1\" class=\"dataframe\">\n",
       "  <thead>\n",
       "    <tr style=\"text-align: right;\">\n",
       "      <th></th>\n",
       "      <th>Index</th>\n",
       "      <th>Bond</th>\n",
       "      <th>50/50</th>\n",
       "      <th>Port</th>\n",
       "    </tr>\n",
       "    <tr>\n",
       "      <th>Index_Date</th>\n",
       "      <th></th>\n",
       "      <th></th>\n",
       "      <th></th>\n",
       "      <th></th>\n",
       "    </tr>\n",
       "  </thead>\n",
       "  <tbody>\n",
       "    <tr>\n",
       "      <th>2012-04-02</th>\n",
       "      <td>103853.1</td>\n",
       "      <td>99978.56</td>\n",
       "      <td>100000.120845</td>\n",
       "      <td>100000.120845</td>\n",
       "    </tr>\n",
       "    <tr>\n",
       "      <th>2012-04-03</th>\n",
       "      <td>105811.9</td>\n",
       "      <td>99999.68</td>\n",
       "      <td>101513.248567</td>\n",
       "      <td>101513.248567</td>\n",
       "    </tr>\n",
       "    <tr>\n",
       "      <th>2012-04-04</th>\n",
       "      <td>103376.0</td>\n",
       "      <td>99901.12</td>\n",
       "      <td>99617.109851</td>\n",
       "      <td>99617.109851</td>\n",
       "    </tr>\n",
       "    <tr>\n",
       "      <th>2012-04-05</th>\n",
       "      <td>104277.0</td>\n",
       "      <td>99915.20</td>\n",
       "      <td>100313.984775</td>\n",
       "      <td>100313.984775</td>\n",
       "    </tr>\n",
       "    <tr>\n",
       "      <th>2012-04-06</th>\n",
       "      <td>102400.5</td>\n",
       "      <td>99858.88</td>\n",
       "      <td>98857.212879</td>\n",
       "      <td>98857.212879</td>\n",
       "    </tr>\n",
       "  </tbody>\n",
       "</table>\n",
       "</div>"
      ],
      "text/plain": [
       "               Index      Bond          50/50           Port\n",
       "Index_Date                                                  \n",
       "2012-04-02  103853.1  99978.56  100000.120845  100000.120845\n",
       "2012-04-03  105811.9  99999.68  101513.248567  101513.248567\n",
       "2012-04-04  103376.0  99901.12   99617.109851   99617.109851\n",
       "2012-04-05  104277.0  99915.20  100313.984775  100313.984775\n",
       "2012-04-06  102400.5  99858.88   98857.212879   98857.212879"
      ]
     },
     "execution_count": 25,
     "metadata": {},
     "output_type": "execute_result"
    }
   ],
   "source": [
    "temp = work_block.copy()\n",
    "del temp['Blue Chips']\n",
    "del temp['Bond Index']\n",
    "del temp['Index Share']\n",
    "del temp['Bond Share']\n",
    "del temp['Flag']\n",
    "temp.head()"
   ]
  },
  {
   "cell_type": "code",
   "execution_count": 26,
   "metadata": {},
   "outputs": [
    {
     "data": {
      "text/plain": [
       "Text(0.5, 0, 'Years')"
      ]
     },
     "execution_count": 26,
     "metadata": {},
     "output_type": "execute_result"
    },
    {
     "data": {
      "image/png": "[encoded data removed]",
      "text/plain": [
       "<Figure size 432x288 with 1 Axes>"
      ]
     },
     "metadata": {
      "needs_background": "light"
     },
     "output_type": "display_data"
    }
   ],
   "source": [
    "ax = temp.plot()\n",
    "ax.set_ylabel(\"Price, rub\")\n",
    "ax.set_xlabel(\"Years\")"
   ]
  },
  {
   "cell_type": "code",
   "execution_count": 27,
   "metadata": {},
   "outputs": [
    {
     "data": {
      "image/png": "[encoded data removed]",
      "text/plain": [
       "<Figure size 432x288 with 1 Axes>"
      ]
     },
     "metadata": {
      "needs_background": "light"
     },
     "output_type": "display_data"
    }
   ],
   "source": [
    "_=plt.plot(work_block.index, (work_block['Port'] - work_block['50/50']))\n",
    "_=plt.xlabel('Year')\n",
    "_=plt.ylabel('Difference, rub')"
   ]
  },
  {
   "cell_type": "code",
   "execution_count": 49,
   "metadata": {},
   "outputs": [],
   "source": [
    "act = []\n",
    "for i in range(1, 100):\n",
    "    v = 100000\n",
    "    port_weight = [i / 100, 1 - i / 100]\n",
    "    p_v = [i * v for i in port_weight]\n",
    "    # assets share\n",
    "    bc_share = round(p_v[0] / main['Index'][0], 4)\n",
    "    bn_share = round(p_v[1] / main['Bond'][0], 4)\n",
    "    temp = pd.DataFrame({\n",
    "                        'Blue Chips': main['Index'], 'Index Share': bc_share,\n",
    "                        'Port': main['Index'] * bc_share + main['Bond'] * bn_share,\n",
    "                        })\n",
    "    temp['ss'] = temp['Blue Chips'] * temp['Index Share'] / temp['Port']\n",
    "    act.append(max(temp['ss']) - min(temp['ss']))"
   ]
  },
  {
   "cell_type": "code",
   "execution_count": 63,
   "metadata": {},
   "outputs": [
    {
     "data": {
      "image/png": "[encoded data removed]",
      "text/plain": [
       "<Figure size 432x288 with 1 Axes>"
      ]
     },
     "metadata": {
      "needs_background": "light"
     },
     "output_type": "display_data"
    }
   ],
   "source": [
    "_=plt.plot(range(len(act)), act)\n",
    "_=plt.xlabel('Share of assets')\n",
    "_=plt.ylabel('The scope of fluctuations' + '\\n' + 'in the share of the asset')\n",
    "_=plt.axvline(x = act.index(max(act)) + 1, color = 'red', linestyle = '--')"
   ]
  }
 ],
 "metadata": {
  "kernelspec": {
   "display_name": "Python 3",
   "language": "python",
   "name": "python3"
  },
  "language_info": {
   "codemirror_mode": {
    "name": "ipython",
    "version": 3
   },
   "file_extension": ".py",
   "mimetype": "text/x-python",
   "name": "python",
   "nbconvert_exporter": "python",
   "pygments_lexer": "ipython3",
   "version": "3.7.2"
  }
 },
 "nbformat": 4,
 "nbformat_minor": 2
}

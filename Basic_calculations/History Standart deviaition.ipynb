{
 "cells": [
  {
   "cell_type": "markdown",
   "metadata": {},
   "source": [
    "## The efficiency of using the historical standard deviation\n",
    "### 09.04.19"
   ]
  },
  {
   "cell_type": "code",
   "execution_count": 2,
   "metadata": {},
   "outputs": [],
   "source": [
    "# сonnect the necessary packages\n",
    "import numpy as np\n",
    "import pandas as pd\n",
    "import matplotlib.pyplot as plt"
   ]
  },
  {
   "cell_type": "code",
   "execution_count": 17,
   "metadata": {},
   "outputs": [
    {
     "data": {
      "text/html": [
       "<div>\n",
       "<style scoped>\n",
       "    .dataframe tbody tr th:only-of-type {\n",
       "        vertical-align: middle;\n",
       "    }\n",
       "\n",
       "    .dataframe tbody tr th {\n",
       "        vertical-align: top;\n",
       "    }\n",
       "\n",
       "    .dataframe thead th {\n",
       "        text-align: right;\n",
       "    }\n",
       "</style>\n",
       "<table border=\"1\" class=\"dataframe\">\n",
       "  <thead>\n",
       "    <tr style=\"text-align: right;\">\n",
       "      <th></th>\n",
       "      <th>CLOSE</th>\n",
       "    </tr>\n",
       "    <tr>\n",
       "      <th>Date</th>\n",
       "      <th></th>\n",
       "    </tr>\n",
       "  </thead>\n",
       "  <tbody>\n",
       "    <tr>\n",
       "      <th>2012-12-01</th>\n",
       "      <td>-0.000642</td>\n",
       "    </tr>\n",
       "    <tr>\n",
       "      <th>2012-01-13</th>\n",
       "      <td>-0.000752</td>\n",
       "    </tr>\n",
       "    <tr>\n",
       "      <th>2012-01-16</th>\n",
       "      <td>0.000673</td>\n",
       "    </tr>\n",
       "    <tr>\n",
       "      <th>2012-01-17</th>\n",
       "      <td>0.014862</td>\n",
       "    </tr>\n",
       "    <tr>\n",
       "      <th>2012-01-18</th>\n",
       "      <td>0.004937</td>\n",
       "    </tr>\n",
       "  </tbody>\n",
       "</table>\n",
       "</div>"
      ],
      "text/plain": [
       "               CLOSE\n",
       "Date                \n",
       "2012-12-01 -0.000642\n",
       "2012-01-13 -0.000752\n",
       "2012-01-16  0.000673\n",
       "2012-01-17  0.014862\n",
       "2012-01-18  0.004937"
      ]
     },
     "execution_count": 17,
     "metadata": {},
     "output_type": "execute_result"
    }
   ],
   "source": [
    "# get data\n",
    "MICEX = pd.read_csv('https://raw.githubusercontent.com/Aurilino/Diploma/master/MAIN_DATA/MOEX.csv'\n",
    "                    , header=0, index_col=0, parse_dates={'Date': [0]}, sep=';')\n",
    "main = pd.DataFrame(MICEX.iloc[6:, 3])\n",
    "# get daily returns\n",
    "main = main.apply(lambda x: np.log(x)-np.log(x).shift(1))\n",
    "main.dropna(inplace = True)\n",
    "main.head()"
   ]
  },
  {
   "cell_type": "code",
   "execution_count": 59,
   "metadata": {},
   "outputs": [],
   "source": [
    "years= int(len(main.index) / 252)\n",
    "first_year = 1\n",
    "day_s = 0\n",
    "day_f = 253\n",
    "ind = []\n",
    "means = []\n",
    "std = []\n",
    "for year in range(years):\n",
    "    ind.append(first_year)\n",
    "    first_year += 1\n",
    "    temp = pd.DataFrame(main.iloc[day_s:day_f, :])\n",
    "    means.append(np.mean(temp['CLOSE']) * 252)\n",
    "    std.append(np.std(temp['CLOSE']) * np.sqrt(252))\n",
    "    day_s += 252\n",
    "    day_f += 252"
   ]
  },
  {
   "cell_type": "code",
   "execution_count": 61,
   "metadata": {},
   "outputs": [
    {
     "data": {
      "text/html": [
       "<div>\n",
       "<style scoped>\n",
       "    .dataframe tbody tr th:only-of-type {\n",
       "        vertical-align: middle;\n",
       "    }\n",
       "\n",
       "    .dataframe tbody tr th {\n",
       "        vertical-align: top;\n",
       "    }\n",
       "\n",
       "    .dataframe thead th {\n",
       "        text-align: right;\n",
       "    }\n",
       "</style>\n",
       "<table border=\"1\" class=\"dataframe\">\n",
       "  <thead>\n",
       "    <tr style=\"text-align: right;\">\n",
       "      <th></th>\n",
       "      <th>MEAN</th>\n",
       "      <th>STD</th>\n",
       "    </tr>\n",
       "  </thead>\n",
       "  <tbody>\n",
       "    <tr>\n",
       "      <th>0</th>\n",
       "      <td>0.075731</td>\n",
       "      <td>0.195791</td>\n",
       "    </tr>\n",
       "    <tr>\n",
       "      <th>1</th>\n",
       "      <td>0.024951</td>\n",
       "      <td>0.158926</td>\n",
       "    </tr>\n",
       "    <tr>\n",
       "      <th>2</th>\n",
       "      <td>0.134644</td>\n",
       "      <td>0.243983</td>\n",
       "    </tr>\n",
       "    <tr>\n",
       "      <th>3</th>\n",
       "      <td>0.090620</td>\n",
       "      <td>0.201566</td>\n",
       "    </tr>\n",
       "    <tr>\n",
       "      <th>4</th>\n",
       "      <td>0.324670</td>\n",
       "      <td>0.144388</td>\n",
       "    </tr>\n",
       "    <tr>\n",
       "      <th>5</th>\n",
       "      <td>0.103006</td>\n",
       "      <td>0.132988</td>\n",
       "    </tr>\n",
       "    <tr>\n",
       "      <th>6</th>\n",
       "      <td>0.126827</td>\n",
       "      <td>0.170483</td>\n",
       "    </tr>\n",
       "  </tbody>\n",
       "</table>\n",
       "</div>"
      ],
      "text/plain": [
       "       MEAN       STD\n",
       "0  0.075731  0.195791\n",
       "1  0.024951  0.158926\n",
       "2  0.134644  0.243983\n",
       "3  0.090620  0.201566\n",
       "4  0.324670  0.144388\n",
       "5  0.103006  0.132988\n",
       "6  0.126827  0.170483"
      ]
     },
     "execution_count": 61,
     "metadata": {},
     "output_type": "execute_result"
    }
   ],
   "source": [
    "summary = dict(MEAN = means, STD = std)\n",
    "summary = pd.DataFrame(summary)\n",
    "summary"
   ]
  },
  {
   "cell_type": "code",
   "execution_count": 74,
   "metadata": {},
   "outputs": [],
   "source": [
    "zZ = summary.iloc[0, 0]\n",
    "xX = summary.iloc[0, 1]\n",
    "diff_mean = [i / zZ for i in summary.iloc[1:, 0]]\n",
    "diff_std = [i / xX for i in summary.iloc[1:, 1]]"
   ]
  },
  {
   "cell_type": "code",
   "execution_count": 84,
   "metadata": {},
   "outputs": [
    {
     "data": {
      "image/png": "[encoded data removed]",
      "text/plain": [
       "<Figure size 432x288 with 2 Axes>"
      ]
     },
     "metadata": {
      "needs_background": "light"
     },
     "output_type": "display_data"
    }
   ],
   "source": [
    "_=fig, ax1 = plt.subplots()\n",
    "_=plt.grid(True)\n",
    "_=color = 'tab:red'\n",
    "_=ax1.set_xlabel('Year')\n",
    "_=ax1.set_ylabel('mean', color=color)\n",
    "_=ax1.plot(range(2014, 2020), diff_mean, color=color)\n",
    "_=ax1.tick_params(axis='y', labelcolor=color)\n",
    "_=ax2 = ax1.twinx()  \n",
    "_=color = 'tab:blue'\n",
    "_=ax2.set_ylabel('Standart deviation', color=color)  \n",
    "_=ax2.plot(range(2014, 2020), diff_std, color=color)\n",
    "_=ax2.tick_params(axis='y', labelcolor=color)\n",
    "_=fig.tight_layout()  "
   ]
  },
  {
   "cell_type": "code",
   "execution_count": 82,
   "metadata": {},
   "outputs": [
    {
     "data": {
      "text/plain": [
       "-0.1856308730977159"
      ]
     },
     "execution_count": 82,
     "metadata": {},
     "output_type": "execute_result"
    }
   ],
   "source": [
    "np.corrcoef(diff_mean, diff_std)[1, 0]"
   ]
  }
 ],
 "metadata": {
  "kernelspec": {
   "display_name": "Python 3",
   "language": "python",
   "name": "python3"
  },
  "language_info": {
   "codemirror_mode": {
    "name": "ipython",
    "version": 3
   },
   "file_extension": ".py",
   "mimetype": "text/x-python",
   "name": "python",
   "nbconvert_exporter": "python",
   "pygments_lexer": "ipython3",
   "version": "3.7.2"
  }
 },
 "nbformat": 4,
 "nbformat_minor": 2
}
